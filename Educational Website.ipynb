{
 "cells": [
  {
   "cell_type": "code",
   "execution_count": 163,
   "id": "9b6bda60-1fa8-4d3c-9de1-f5d18078316f",
   "metadata": {},
   "outputs": [],
   "source": [
    "import pandas as pd\n",
    "import matplotlib.pyplot as plt\n",
    "import seaborn as sns\n",
    "from datetime import datetime, timedelta\n",
    "# Read all CSV files into DataFrames\n",
    "users_df = pd.read_csv(\"users.csv\",parse_dates=['date_of_birth','registration_date'], dayfirst=True)\n",
    "courses_df = pd.read_csv(\"courses.csv\",parse_dates=['created_on','last_updated_on'], dayfirst=True)\n",
    "ratings_df = pd.read_csv(\"ratings.csv\",parse_dates=['first_reviewed_on','last_updated_on'], dayfirst=True)\n",
    "enrollments_df = pd.read_csv(\"enrollments.csv\",parse_dates=['enrollment_date'], dayfirst=True)\n",
    "payments_df = pd.read_csv(\"payments.csv\",parse_dates=['transaction_date'], dayfirst=True)\n",
    "refunds_df = pd.read_csv(\"refunds.csv\",parse_dates=['refund_date'], dayfirst=True)"
   ]
  },
  {
   "cell_type": "code",
   "execution_count": 165,
   "id": "78f0a3ee-5dc9-4b35-870d-7c0b00114002",
   "metadata": {},
   "outputs": [
    {
     "name": "stdout",
     "output_type": "stream",
     "text": [
      "Users DataFrame columns: ['user_id', 'name', 'date_of_birth', 'email', 'gender', 'category', 'registration_date', 'country', 'last_login_date', 'user_type'] \n",
      "\n",
      "Courses DataFrame columns: ['course_id', 'title', 'category', 'language', 'subtitles', 'price', 'instructor_id', 'length', 'difficulty_level', 'created_on', 'last_updated_on', 'number_of_videos', 'number_of_quizzes', 'view_count', 'average_watch_duration', 'certification_available', 'completion_rate', 'bookmark_count'] \n",
      "\n",
      "Ratings DataFrame columns: ['review_id', 'course_id', 'student_id', 'rating', 'review_text', 'first_reviewed_on', 'last_updated_on', 'helpful_count', 'reported_count'] \n",
      "\n",
      "Enrollments DataFrame columns: ['enrollment_id', 'student_id', 'course_id', 'enrollment_date'] \n",
      "\n",
      "Payments DataFrame columns: ['payment_id', 'enrollment_id', 'discount_percent', 'amount_paid', 'coupon_code', 'payment_method', 'transaction_date', 'transaction_id', 'payment_status'] \n",
      "\n",
      "Refunds DataFrame columns: ['refund_id', 'enrollment_id', 'refund_date', 'refund_reason', 'refund_amount'] \n",
      "\n"
     ]
    }
   ],
   "source": [
    "print(\"Users DataFrame columns:\", users_df.columns.tolist(), \"\\n\")\n",
    "print(\"Courses DataFrame columns:\", courses_df.columns.tolist(), \"\\n\")\n",
    "print(\"Ratings DataFrame columns:\", ratings_df.columns.tolist(), \"\\n\")\n",
    "print(\"Enrollments DataFrame columns:\", enrollments_df.columns.tolist(), \"\\n\")\n",
    "print(\"Payments DataFrame columns:\", payments_df.columns.tolist(), \"\\n\")\n",
    "print(\"Refunds DataFrame columns:\", refunds_df.columns.tolist(), \"\\n\")"
   ]
  },
  {
   "cell_type": "code",
   "execution_count": 167,
   "id": "a6a52c58-b942-4f52-84c8-b33b1bb5858a",
   "metadata": {},
   "outputs": [
    {
     "name": "stdout",
     "output_type": "stream",
     "text": [
      "50. Free courses & Paid courses:\n",
      "Free courses: 18, Paid courses: 45\n"
     ]
    }
   ],
   "source": [
    "# 50. How many courses are free and how many courses have a price associated with them?\n",
    "print(\"50. Free courses & Paid courses:\")\n",
    "free_courses = courses_df[courses_df['price'] == 0].shape[0]\n",
    "paid_courses = courses_df[courses_df['price'] > 0].shape[0]\n",
    "print(f\"Free courses: {free_courses}, Paid courses: {paid_courses}\")"
   ]
  },
  {
   "cell_type": "code",
   "execution_count": 169,
   "id": "49e55d57-0faa-4ea9-9d3b-596b9be07d1c",
   "metadata": {},
   "outputs": [
    {
     "name": "stdout",
     "output_type": "stream",
     "text": [
      "51. Courses taught by each instructor:\n",
      "instructor_id\n",
      "457246    6\n",
      "220585    5\n",
      "871007    5\n",
      "668495    4\n",
      "536923    4\n",
      "751788    3\n",
      "712134    3\n",
      "582060    3\n",
      "767050    3\n",
      "838186    3\n",
      "525207    3\n",
      "278667    3\n",
      "204568    2\n",
      "764597    2\n",
      "632410    2\n",
      "288315    2\n",
      "173468    2\n",
      "742878    2\n",
      "417012    1\n",
      "241479    1\n",
      "364202    1\n",
      "424379    1\n",
      "295438    1\n",
      "370558    1\n",
      "Name: count, dtype: int64\n"
     ]
    }
   ],
   "source": [
    "# 51. How many courses is each instructor teaching on the platform?\n",
    "instructor_course_count = courses_df['instructor_id'].value_counts()\n",
    "print(f\"51. Courses taught by each instructor:\\n{instructor_course_count}\")"
   ]
  },
  {
   "cell_type": "code",
   "execution_count": 171,
   "id": "a17fbfb4-8713-471a-b911-8a610924ea64",
   "metadata": {},
   "outputs": [
    {
     "name": "stdout",
     "output_type": "stream",
     "text": [
      "52. Most popular courses based on bookmarks:\n",
      "                                            title  bookmark_count\n",
      "34                Genetics: From DNA to Evolution             485\n",
      "13                             Python Masterclass             476\n",
      "24  Physics Made Simple: Fundamentals to Advanced             458\n",
      "11       Instructional Design for Online Learning             452\n",
      "15            Leadership and Strategic Management             450\n"
     ]
    }
   ],
   "source": [
    "# 52. Which courses are the most popular based on the number of bookmarks?\n",
    "popular_courses = courses_df.nlargest(5, 'bookmark_count')\n",
    "print(f\"52. Most popular courses based on bookmarks:\\n{popular_courses[['title', 'bookmark_count']]}\")"
   ]
  },
  {
   "cell_type": "code",
   "execution_count": 173,
   "id": "d0ef4fef-8b4d-4907-b76c-b8d171fbfc99",
   "metadata": {},
   "outputs": [
    {
     "name": "stdout",
     "output_type": "stream",
     "text": [
      "53. Users registered in each category:\n",
      "category\n",
      "retired      766\n",
      "homemaker    744\n",
      "student      717\n",
      "working      715\n",
      "Name: count, dtype: int64\n"
     ]
    }
   ],
   "source": [
    "# 53. How many users are registered in each user category?\n",
    "user_category_count = users_df['category'].value_counts()\n",
    "print(f\"53. Users registered in each category:\\n{user_category_count}\")"
   ]
  },
  {
   "cell_type": "code",
   "execution_count": 175,
   "id": "53f953a3-3e35-4cb9-a3e7-4087b6fd48ad",
   "metadata": {},
   "outputs": [
    {
     "name": "stdout",
     "output_type": "stream",
     "text": [
      "54. Male to Female Ratio: 1.52\n"
     ]
    }
   ],
   "source": [
    "# 54. What is the male-to-female ratio among the users?\n",
    "gender_ratio = users_df['gender'].value_counts()\n",
    "male_to_female_ratio = gender_ratio['male'] / gender_ratio['female']\n",
    "print(f\"54. Male to Female Ratio: {male_to_female_ratio:.2f}\")"
   ]
  },
  {
   "cell_type": "code",
   "execution_count": 177,
   "id": "df02ccbc-8ddd-4468-9be9-dde245b12d57",
   "metadata": {},
   "outputs": [
    {
     "name": "stdout",
     "output_type": "stream",
     "text": [
      "55. Courses with the worst completion rates:\n",
      "                                               title  completion_rate\n",
      "27             Biology: Understanding the Human Body            12.52\n",
      "7                    Introduction to Quantum Physics            12.88\n",
      "17  Project Management: From Initiation to Execution            13.52\n",
      "14                     Digital Marketing Masterclass            16.09\n",
      "22                 Photography: From Beginner to Pro            16.54\n"
     ]
    }
   ],
   "source": [
    "# 55. Which courses have the worst completion rates?\n",
    "worst_completion_courses = courses_df.nsmallest(5, 'completion_rate')\n",
    "print(f\"55. Courses with the worst completion rates:\\n{worst_completion_courses[['title', 'completion_rate']]}\")"
   ]
  },
  {
   "cell_type": "code",
   "execution_count": 179,
   "id": "4eb1e099-f088-43ea-996e-dd52ca55eda4",
   "metadata": {},
   "outputs": [
    {
     "name": "stdout",
     "output_type": "stream",
     "text": [
      "56. Most common rating given by students: 5\n"
     ]
    }
   ],
   "source": [
    "# 56. What is the most common rating given by students?\n",
    "most_common_rating = ratings_df['rating'].mode()[0]\n",
    "print(f\"56. Most common rating given by students: {most_common_rating}\")"
   ]
  },
  {
   "cell_type": "code",
   "execution_count": 181,
   "id": "b17b800f-6197-466c-945f-8f650c900b0f",
   "metadata": {},
   "outputs": [
    {
     "name": "stdout",
     "output_type": "stream",
     "text": [
      "57. Unique users enrolled in at least one course: 261\n"
     ]
    }
   ],
   "source": [
    "# 57. How many unique users are enrolled in at least one course?\n",
    "unique_users = enrollments_df['student_id'].nunique()\n",
    "print(f\"57. Unique users enrolled in at least one course: {unique_users}\")"
   ]
  },
  {
   "cell_type": "code",
   "execution_count": 183,
   "id": "ede84375-d3b3-4b48-a4d3-4b66a125a6a1",
   "metadata": {},
   "outputs": [
    {
     "name": "stdout",
     "output_type": "stream",
     "text": [
      "58. Users enrolled in multiple courses: 14\n"
     ]
    }
   ],
   "source": [
    "# 58. How many users are enrolled in multiple courses?\n",
    "multiple_enrollments = enrollments_df['student_id'].value_counts()\n",
    "users_with_multiple_courses = (multiple_enrollments > 1).sum()\n",
    "print(f\"58. Users enrolled in multiple courses: {users_with_multiple_courses}\")"
   ]
  },
  {
   "cell_type": "code",
   "execution_count": 185,
   "id": "007994ac-0ae9-44bd-bca9-cde2a33c16e8",
   "metadata": {},
   "outputs": [
    {
     "name": "stdout",
     "output_type": "stream",
     "text": [
      "59. Top 5 courses with the most enrollments:\n",
      "course_id\n",
      "76064    20\n",
      "64796    19\n",
      "92956    18\n",
      "79177    18\n",
      "13258    15\n",
      "Name: count, dtype: int64\n"
     ]
    }
   ],
   "source": [
    "# 59. Which 5 courses have the most enrollments?\n",
    "top_enrolled_courses = enrollments_df['course_id'].value_counts().nlargest(5)\n",
    "print(f\"59. Top 5 courses with the most enrollments:\\n{top_enrolled_courses}\")"
   ]
  },
  {
   "cell_type": "code",
   "execution_count": 187,
   "id": "28d64087-a715-401c-9de2-8e5506616c07",
   "metadata": {},
   "outputs": [
    {
     "name": "stdout",
     "output_type": "stream",
     "text": [
      "60. Total revenue from successful payments: $3770.50\n"
     ]
    }
   ],
   "source": [
    "# 60. Find the total revenue generated from successful payments.\n",
    "total_revenue = payments_df[payments_df['payment_status'] == 'success']['amount_paid'].sum()\n",
    "print(f\"60. Total revenue from successful payments: ${total_revenue:.2f}\")"
   ]
  },
  {
   "cell_type": "code",
   "execution_count": 189,
   "id": "593848f5-a132-4e7f-abf9-6058673aa70c",
   "metadata": {},
   "outputs": [
    {
     "name": "stdout",
     "output_type": "stream",
     "text": [
      "61. Average discount percentage: 16.35%\n"
     ]
    }
   ],
   "source": [
    "# 61. What is the average discount percentage applied across all discounted payments?\n",
    "average_discount = payments_df[payments_df['discount_percent'] > 0]['discount_percent'].mean()\n",
    "print(f\"61. Average discount percentage: {average_discount:.2f}%\")"
   ]
  },
  {
   "cell_type": "code",
   "execution_count": 191,
   "id": "08d2bb79-1973-486f-9e72-5984d2ed7f74",
   "metadata": {},
   "outputs": [
    {
     "name": "stdout",
     "output_type": "stream",
     "text": [
      "62. Top 3 countries with the highest number of students:\n",
      "country\n",
      "India    1163\n",
      "US        865\n",
      "China     526\n",
      "Name: count, dtype: int64\n"
     ]
    }
   ],
   "source": [
    "# 62. Find top 3 countries with the highest number of students.\n",
    "top_countries = users_df['country'].value_counts().nlargest(3)\n",
    "print(f\"62. Top 3 countries with the highest number of students:\\n{top_countries}\")"
   ]
  },
  {
   "cell_type": "code",
   "execution_count": 193,
   "id": "2f7a6c8f-56e5-4c08-b35d-3cfb8ca85760",
   "metadata": {},
   "outputs": [
    {
     "name": "stdout",
     "output_type": "stream",
     "text": [
      "63. Most common reason for refunds: Course content not satisfactory\n"
     ]
    }
   ],
   "source": [
    "# 63. What is the most common reason for refunds?\n",
    "common_refund_reason = refunds_df['refund_reason'].mode()[0]\n",
    "print(f\"63. Most common reason for refunds: {common_refund_reason}\")"
   ]
  },
  {
   "cell_type": "code",
   "execution_count": 195,
   "id": "7eede2d5-377a-4cd6-b77c-d095301e9f3b",
   "metadata": {},
   "outputs": [
    {
     "name": "stdout",
     "output_type": "stream",
     "text": [
      "64. Average age of students: 41.73\n"
     ]
    }
   ],
   "source": [
    "# 64. Add an age column to the users table and then calculate average age of the students on the website.\n",
    "users_df['date_of_birth'] = pd.to_datetime(users_df['date_of_birth'])\n",
    "users_df['age'] = (datetime.now() - users_df['date_of_birth']).dt.days // 365\n",
    "average_age = users_df['age'].mean()\n",
    "print(f\"64. Average age of students: {average_age:.2f}\")"
   ]
  },
  {
   "cell_type": "code",
   "execution_count": 197,
   "id": "edd5d9ab-2433-4713-b1e9-258695f0b96c",
   "metadata": {},
   "outputs": [
    {
     "name": "stdout",
     "output_type": "stream",
     "text": [
      "65. Average age of students in each course:\n",
      "course_id\n",
      "13258    41.666667\n",
      "18426    39.846154\n",
      "20195    51.000000\n",
      "21108    37.785714\n",
      "21248    38.500000\n",
      "22005    69.000000\n",
      "27385    46.500000\n",
      "27431    15.500000\n",
      "30371    41.733333\n",
      "30790    47.000000\n",
      "31874    34.000000\n",
      "32369    38.500000\n",
      "33057    42.416667\n",
      "39766    23.000000\n",
      "45770    36.200000\n",
      "48950    80.000000\n",
      "49963    29.461538\n",
      "51293    47.181818\n",
      "54046    43.000000\n",
      "54145    47.555556\n",
      "56446    41.750000\n",
      "56799    42.500000\n",
      "59716    17.000000\n",
      "62276    34.000000\n",
      "62660    30.000000\n",
      "64561    66.666667\n",
      "64796    39.684211\n",
      "65005    33.375000\n",
      "67194    35.000000\n",
      "72387    62.000000\n",
      "76064    42.600000\n",
      "78724    49.250000\n",
      "79177    39.888889\n",
      "85886    26.000000\n",
      "86558    48.000000\n",
      "86724    47.000000\n",
      "89472    24.000000\n",
      "92956    49.722222\n",
      "93178    38.000000\n",
      "93568    54.000000\n",
      "93619    43.133333\n",
      "96323    54.000000\n",
      "97039    41.000000\n",
      "97988    40.866667\n",
      "99133    50.000000\n",
      "Name: age, dtype: float64\n"
     ]
    }
   ],
   "source": [
    "# 65. Find average age of the students in each course.\n",
    "average_age_per_course = enrollments_df.merge(users_df[['user_id', 'age']], left_on='student_id', right_on='user_id').groupby('course_id')['age'].mean()\n",
    "print(f\"65. Average age of students in each course:\\n{average_age_per_course}\")"
   ]
  },
  {
   "cell_type": "code",
   "execution_count": 199,
   "id": "01bca393-48ce-44fe-bed4-bf5d6667f02f",
   "metadata": {},
   "outputs": [
    {
     "name": "stdout",
     "output_type": "stream",
     "text": [
      "66. Average age of students in each course category:\n",
      "category\n",
      "Arts and Design               43.600000\n",
      "Business and Management       42.687500\n",
      "Education                     39.464789\n",
      "Health                        43.057143\n",
      "Personal Development          65.000000\n",
      "Science and Mathematics       39.837209\n",
      "Technology and Programming    41.452381\n",
      "Name: age, dtype: float64\n"
     ]
    }
   ],
   "source": [
    "# 66. Find average age of the students in each course category.\n",
    "average_age_per_category = enrollments_df.merge(users_df[['user_id', 'age']], left_on='student_id', right_on='user_id').merge(courses_df[['course_id', 'category']], on='course_id').groupby('category')['age'].mean()\n",
    "print(f\"66. Average age of students in each course category:\\n{average_age_per_category}\")"
   ]
  },
  {
   "cell_type": "code",
   "execution_count": 201,
   "id": "c165b1b8-ee7a-4c31-987c-83eabada475b",
   "metadata": {},
   "outputs": [
    {
     "name": "stdout",
     "output_type": "stream",
     "text": [
      "67. Average age of users for each user category:\n",
      "category\n",
      "homemaker    41.967742\n",
      "retired      41.694517\n",
      "student      41.179916\n",
      "working      42.067133\n",
      "Name: age, dtype: float64\n"
     ]
    }
   ],
   "source": [
    "# 67. Calculate the average age of users for each user category.\n",
    "average_age_per_user_category = users_df.groupby('category')['age'].mean()\n",
    "print(f\"67. Average age of users for each user category:\\n{average_age_per_user_category}\")"
   ]
  },
  {
   "cell_type": "code",
   "execution_count": 203,
   "id": "0156e215-8fa4-4b46-8830-3c9bde460148",
   "metadata": {},
   "outputs": [
    {
     "data": {
      "image/png": "[encoded data removed]",
      "text/plain": [
       "<Figure size 1000x600 with 1 Axes>"
      ]
     },
     "metadata": {},
     "output_type": "display_data"
    }
   ],
   "source": [
    "# 68. Plot the age distribution of all the users.\n",
    "plt.figure(figsize=(10, 6))\n",
    "sns.histplot(users_df['age'], bins=20, kde=True)\n",
    "plt.title('Age Distribution of Users')\n",
    "plt.xlabel('Age')\n",
    "plt.ylabel('Frequency')\n",
    "plt.show()"
   ]
  },
  {
   "cell_type": "code",
   "execution_count": 204,
   "id": "11de55e1-91a2-42b4-a461-d2e11b1b0c92",
   "metadata": {},
   "outputs": [
    {
     "data": {
      "image/png": "[encoded data removed]",
      "text/plain": [
       "<Figure size 800x500 with 1 Axes>"
      ]
     },
     "metadata": {},
     "output_type": "display_data"
    }
   ],
   "source": [
    "# 69. Plot the gender distribution to understand the gender breakdown of users.\n",
    "plt.figure(figsize=(8, 5))\n",
    "sns.countplot(data=users_df, x='gender')\n",
    "plt.title('Gender Distribution of Users')\n",
    "plt.xlabel('Gender')\n",
    "plt.ylabel('Count')\n",
    "plt.show()"
   ]
  },
  {
   "cell_type": "code",
   "execution_count": 205,
   "id": "5144bcea-b21d-4100-b621-a185d20b5aab",
   "metadata": {},
   "outputs": [
    {
     "data": {
      "image/png": "[encoded data removed]",
      "text/plain": [
       "<Figure size 1200x600 with 1 Axes>"
      ]
     },
     "metadata": {},
     "output_type": "display_data"
    }
   ],
   "source": [
    "# 70. Plot the geographic distribution of users (based on country).\n",
    "plt.figure(figsize=(12, 6))\n",
    "sns.countplot(data=users_df, y='country', order=users_df['country'].value_counts().index)\n",
    "plt.title('Geographic Distribution of Users')\n",
    "plt.xlabel('Count')\n",
    "plt.ylabel('Country')\n",
    "plt.show()"
   ]
  },
  {
   "cell_type": "code",
   "execution_count": 206,
   "id": "05d8eca1-afd2-4d98-9f40-218f196bea38",
   "metadata": {},
   "outputs": [
    {
     "data": {
      "image/png": "[encoded data removed]",
      "text/plain": [
       "<Figure size 1000x600 with 1 Axes>"
      ]
     },
     "metadata": {},
     "output_type": "display_data"
    }
   ],
   "source": [
    "# 71. Show how the age distribution varies for different user types.\n",
    "plt.figure(figsize=(10, 6))\n",
    "sns.boxplot(data=users_df, x='user_type', y='age')\n",
    "plt.title('Age Distribution by User Type')\n",
    "plt.xlabel('User  Type')\n",
    "plt.ylabel('Age')\n",
    "plt.show()"
   ]
  },
  {
   "cell_type": "code",
   "execution_count": 209,
   "id": "fcb26425-d220-4296-b956-975481264609",
   "metadata": {},
   "outputs": [
    {
     "name": "stdout",
     "output_type": "stream",
     "text": [
      "72. Top 5 most popular courses based on view counts:\n",
      "                                    title  view_count\n",
      "29    Full-Stack Web Development Bootcamp        9989\n",
      "27  Biology: Understanding the Human Body        9821\n",
      "35     Mastering React: Advanced Concepts        9445\n",
      "33     Marine Biology: Life Under the Sea        9320\n",
      "34        Genetics: From DNA to Evolution        9230\n"
     ]
    }
   ],
   "source": [
    "# 72. Find the top 5 most popular courses based on view counts.\n",
    "top_viewed_courses = courses_df.nlargest(5, 'view_count')\n",
    "print(f\"72. Top 5 most popular courses based on view counts:\\n{top_viewed_courses[['title', 'view_count']]}\")"
   ]
  },
  {
   "cell_type": "code",
   "execution_count": 210,
   "id": "fc222f9c-c3ef-459b-92c3-1a557d87a94f",
   "metadata": {},
   "outputs": [
    {
     "name": "stdout",
     "output_type": "stream",
     "text": [
      "73. Top 2 popular courses in each category based on view counts:\n",
      "                      category  \\\n",
      "0              Arts and Design   \n",
      "1              Arts and Design   \n",
      "2      Business and Management   \n",
      "3      Business and Management   \n",
      "4                    Education   \n",
      "5                    Education   \n",
      "6                       Health   \n",
      "7                       Health   \n",
      "8         Personal Development   \n",
      "9         Personal Development   \n",
      "10     Science and Mathematics   \n",
      "11     Science and Mathematics   \n",
      "12  Technology and Programming   \n",
      "13  Technology and Programming   \n",
      "\n",
      "                                               title  view_count  \n",
      "0                          UX/UI Design Fundamentals        6196  \n",
      "1    Graphic Design Essentials: Tools and Techniques        6117  \n",
      "2   Project Management: From Initiation to Execution        6857  \n",
      "3             Financial Analysis for Decision-Making        4575  \n",
      "4             Early Childhood Education Fundamentals        8285  \n",
      "5                   Childhood Education Fundamentals        7785  \n",
      "6                    First Aid and CPR Certification        8483  \n",
      "7                Introduction to Medical Terminology        6379  \n",
      "8          Public Speaking and Communication Mastery        8970  \n",
      "9              The Art of Negotiation and Persuasion        7953  \n",
      "10             Biology: Understanding the Human Body        9821  \n",
      "11                Marine Biology: Life Under the Sea        9320  \n",
      "12               Full-Stack Web Development Bootcamp        9989  \n",
      "13                Mastering React: Advanced Concepts        9445  \n"
     ]
    }
   ],
   "source": [
    "top_courses_per_category = courses_df.groupby('category')['view_count'].nlargest(2).reset_index(level=0)\n",
    "top_courses_per_category = top_courses_per_category.merge(courses_df[['category', 'title', 'view_count']], on=['category','view_count'], how='left')\n",
    "print(f\"73. Top 2 popular courses in each category based on view counts:\\n{top_courses_per_category[['category', 'title', 'view_count']]}\")"
   ]
  },
  {
   "cell_type": "code",
   "execution_count": 212,
   "id": "d67be6ce-3b9e-43ca-b8cc-a018b9bb0bfa",
   "metadata": {},
   "outputs": [
    {
     "name": "stdout",
     "output_type": "stream",
     "text": [
      "74. Average course duration per category:\n",
      "category\n",
      "Arts and Design              NaN\n",
      "Business and Management      NaN\n",
      "Education                    NaN\n",
      "Health                       NaN\n",
      "Personal Development         NaN\n",
      "Science and Mathematics      NaN\n",
      "Technology and Programming   NaN\n",
      "Name: length, dtype: float64\n"
     ]
    }
   ],
   "source": [
    "# 74. What is the average course duration per category?\n",
    "courses_df['length'] = pd.to_numeric(courses_df['length'], errors='coerce')\n",
    "average_duration_per_category = courses_df.groupby('category')['length'].mean()\n",
    "print(f\"74. Average course duration per category:\\n{average_duration_per_category}\")"
   ]
  },
  {
   "cell_type": "code",
   "execution_count": 217,
   "id": "61fdd4f1-3700-4866-8329-e8974402d16c",
   "metadata": {},
   "outputs": [
    {
     "name": "stdout",
     "output_type": "stream",
     "text": [
      "75. Top 5 highest revenue generating courses:\n",
      "course_id\n",
      "64561    345.80\n",
      "78724    335.80\n",
      "56446    295.25\n",
      "21248    278.00\n",
      "62660    249.00\n",
      "Name: amount_paid, dtype: float64\n"
     ]
    }
   ],
   "source": [
    "# 75. Find the top 5 highest revenue generating courses.\n",
    "revenue_per_course = enrollments_df.merge(payments_df, on='enrollment_id').groupby('course_id')['amount_paid'].sum().nlargest(5)\n",
    "print(f\"75. Top 5 highest revenue generating courses:\\n{revenue_per_course}\")"
   ]
  },
  {
   "cell_type": "code",
   "execution_count": 219,
   "id": "d2675c82-9cea-4c85-95c6-34c8f55c031a",
   "metadata": {},
   "outputs": [
    {
     "name": "stdout",
     "output_type": "stream",
     "text": [
      "76. Average transaction amount for each payment method:\n",
      "payment_method\n",
      "PayPal    81.346667\n",
      "UPI       89.202632\n",
      "card      99.450000\n",
      "Name: amount_paid, dtype: float64\n"
     ]
    }
   ],
   "source": [
    "# 76. What is the average transaction amount for each payment method?\n",
    "average_transaction_per_method = payments_df.groupby('payment_method')['amount_paid'].mean()\n",
    "print(f\"76. Average transaction amount for each payment method:\\n{average_transaction_per_method}\")"
   ]
  },
  {
   "cell_type": "code",
   "execution_count": 221,
   "id": "92d7fba1-d419-4de2-a3e3-d501ec401ae6",
   "metadata": {},
   "outputs": [
    {
     "name": "stdout",
     "output_type": "stream",
     "text": [
      "77. Average rating for each course added to courses_df:\n",
      "course_id\n",
      "12938    4.600000\n",
      "13258    3.666667\n",
      "18426    3.800000\n",
      "20195    4.000000\n",
      "20671    5.000000\n",
      "21108    3.800000\n",
      "21248    4.000000\n",
      "22005    3.857143\n",
      "23531    4.800000\n",
      "27385    4.125000\n",
      "27431    4.666667\n",
      "30371    2.000000\n",
      "30790    4.000000\n",
      "31874    4.000000\n",
      "32369    4.666667\n",
      "33057    4.375000\n",
      "39766    4.333333\n",
      "42258    4.500000\n",
      "45749    4.500000\n",
      "48950    3.333333\n",
      "49963    4.000000\n",
      "51293    3.428571\n",
      "51452    4.600000\n",
      "53452    5.000000\n",
      "54046    4.250000\n",
      "54145    4.000000\n",
      "56446    4.142857\n",
      "56799    3.666667\n",
      "56956    4.500000\n",
      "57353    4.000000\n",
      "59716    2.000000\n",
      "60079    3.333333\n",
      "62276    4.666667\n",
      "62660    4.666667\n",
      "64561    5.000000\n",
      "64796    4.000000\n",
      "65005    4.250000\n",
      "67194    4.500000\n",
      "68511    2.500000\n",
      "69513    4.500000\n",
      "71838    4.200000\n",
      "72387    4.000000\n",
      "74770    3.500000\n",
      "76064    3.800000\n",
      "77946    4.666667\n",
      "78724    3.400000\n",
      "79177    4.333333\n",
      "85886    4.666667\n",
      "86558    3.750000\n",
      "86724    4.500000\n",
      "89472    3.000000\n",
      "92956    4.000000\n",
      "93178    3.500000\n",
      "93568    4.400000\n",
      "93619    3.500000\n",
      "96323    4.200000\n",
      "97039    4.500000\n",
      "97988    3.500000\n",
      "99133    4.500000\n",
      "Name: rating, dtype: float64\n"
     ]
    }
   ],
   "source": [
    "# 77. Calculate the average rating for each course and add a column average_rating in courses_df.\n",
    "average_rating_per_course = ratings_df.groupby('course_id')['rating'].mean()\n",
    "courses_df['average_rating'] = courses_df['course_id'].map(average_rating_per_course)\n",
    "print(f\"77. Average rating for each course added to courses_df:\\n{average_rating_per_course}\")"
   ]
  },
  {
   "cell_type": "code",
   "execution_count": 223,
   "id": "f80155cd-07e8-442a-a804-aaafbe7eced5",
   "metadata": {},
   "outputs": [
    {
     "name": "stdout",
     "output_type": "stream",
     "text": [
      "78. Top 2 rated courses in each category:\n",
      "                                                 category  \\\n",
      "category                                                    \n",
      "Arts and Design            22             Arts and Design   \n",
      "                           19             Arts and Design   \n",
      "Business and Management    18     Business and Management   \n",
      "                           16     Business and Management   \n",
      "Education                  62                   Education   \n",
      "                           12                   Education   \n",
      "Health                     47                      Health   \n",
      "                           51                      Health   \n",
      "Personal Development       40        Personal Development   \n",
      "                           38        Personal Development   \n",
      "Science and Mathematics    27     Science and Mathematics   \n",
      "                           31     Science and Mathematics   \n",
      "Technology and Programming 13  Technology and Programming   \n",
      "                           25  Technology and Programming   \n",
      "\n",
      "                                                                           title  \\\n",
      "category                                                                           \n",
      "Arts and Design            22                  Photography: From Beginner to Pro   \n",
      "                           19    Graphic Design Essentials: Tools and Techniques   \n",
      "Business and Management    18  Entrepreneurship 101: Building Your First Startup   \n",
      "                           16             Financial Analysis for Decision-Making   \n",
      "Education                  62                   Childhood Education Fundamentals   \n",
      "                           12             Early Childhood Education Fundamentals   \n",
      "Health                     47  Anatomy and Physiology: Understanding the Huma...   \n",
      "                           51                Introduction to Medical Terminology   \n",
      "Personal Development       40              The Art of Negotiation and Persuasion   \n",
      "                           38          Public Speaking and Communication Mastery   \n",
      "Science and Mathematics    27              Biology: Understanding the Human Body   \n",
      "                           31             Biotechnology: Applications and Impact   \n",
      "Technology and Programming 13                                 Python Masterclass   \n",
      "                           25                          Data structures through C   \n",
      "\n",
      "                               average_rating  \n",
      "category                                       \n",
      "Arts and Design            22        5.000000  \n",
      "                           19        4.666667  \n",
      "Business and Management    18        5.000000  \n",
      "                           16        4.333333  \n",
      "Education                  62        4.800000  \n",
      "                           12        4.500000  \n",
      "Health                     47        5.000000  \n",
      "                           51        4.500000  \n",
      "Personal Development       40        4.500000  \n",
      "                           38        4.000000  \n",
      "Science and Mathematics    27        4.666667  \n",
      "                           31        4.666667  \n",
      "Technology and Programming 13        4.666667  \n",
      "                           25        4.600000  \n"
     ]
    }
   ],
   "source": [
    "# 78. Find 2 top rated courses in each course category.\n",
    "top_courses_per_category = courses_df.groupby('category')['average_rating'].nlargest(2).reset_index(level=0)\n",
    "top_courses_per_category = top_courses_per_category.merge(courses_df[['category', 'title', 'average_rating']], on=['category','average_rating']\n",
    "                                                          , how='left')\n",
    "print(f\"78. Top 2 rated courses in each category:\\n{top_rated_courses_per_category[['category', 'title', 'average_rating']]}\")"
   ]
  },
  {
   "cell_type": "code",
   "execution_count": 225,
   "id": "70dea8c0-0c19-4e19-a2ce-b7a3bd99ab50",
   "metadata": {},
   "outputs": [
    {
     "name": "stdout",
     "output_type": "stream",
     "text": [
      "79. Average rating of each course category:\n",
      "category\n",
      "Arts and Design               4.426667\n",
      "Business and Management       4.276667\n",
      "Education                     4.015152\n",
      "Health                        4.191005\n",
      "Personal Development          3.533333\n",
      "Science and Mathematics       3.951667\n",
      "Technology and Programming    4.025680\n",
      "Name: average_rating, dtype: float64\n"
     ]
    }
   ],
   "source": [
    "# 79. Display the average rating of each course category.\n",
    "average_rating_per_category = courses_df.groupby('category')['average_rating'].mean()\n",
    "print(f\"79. Average rating of each course category:\\n{average_rating_per_category}\")"
   ]
  },
  {
   "cell_type": "code",
   "execution_count": 227,
   "id": "f35aa3a6-165e-4156-a1da-1374e6867435",
   "metadata": {},
   "outputs": [
    {
     "name": "stdout",
     "output_type": "stream",
     "text": [
      "80. Average rating for each instructor:\n",
      "instructor_id\n",
      "173468    4.000000\n",
      "204568    4.000000\n",
      "220585    4.240000\n",
      "241479    4.125000\n",
      "278667    3.583333\n",
      "288315    3.625000\n",
      "295438    4.000000\n",
      "364202    4.333333\n",
      "370558    4.500000\n",
      "417012    3.800000\n",
      "424379    4.200000\n",
      "457246    4.333333\n",
      "525207    4.000000\n",
      "536923    4.400000\n",
      "582060    4.153846\n",
      "632410    4.400000\n",
      "668495    3.866667\n",
      "712134    4.083333\n",
      "742878    4.666667\n",
      "751788    4.181818\n",
      "764597    4.000000\n",
      "767050    3.750000\n",
      "838186    3.833333\n",
      "871007    3.944444\n",
      "Name: rating, dtype: float64\n"
     ]
    }
   ],
   "source": [
    "# 80. Calculate the average rating for each instructor.\n",
    "average_rating_per_instructor = ratings_df.merge(courses_df[['course_id', 'instructor_id']], on='course_id').groupby('instructor_id')['rating'].mean()\n",
    "print(f\"80. Average rating for each instructor:\\n{average_rating_per_instructor}\")"
   ]
  },
  {
   "cell_type": "code",
   "execution_count": 229,
   "id": "a3cbfe1e-0f4f-4aa7-85ce-16a7805faef5",
   "metadata": {},
   "outputs": [
    {
     "name": "stdout",
     "output_type": "stream",
     "text": [
      "81. Courses with no ratings:\n",
      "                                            title\n",
      "1              Advanced Mathematics for Engineers\n",
      "24  Physics Made Simple: Fundamentals to Advanced\n",
      "28                   Introduction to Astrophysics\n",
      "44            Mental Health Awareness and Support\n"
     ]
    }
   ],
   "source": [
    "# 81. Display courses with no ratings.\n",
    "no_rating_courses = courses_df[courses_df['average_rating'].isnull()]\n",
    "print(f\"81. Courses with no ratings:\\n{no_rating_courses[['title']]}\")"
   ]
  },
  {
   "cell_type": "code",
   "execution_count": 231,
   "id": "0b0849b4-5662-4458-9006-19cdfa8d2aeb",
   "metadata": {},
   "outputs": [
    {
     "name": "stdout",
     "output_type": "stream",
     "text": [
      "82. Courses that have no students enrolled:\n",
      "                                                title\n",
      "18  Entrepreneurship 101: Building Your First Startup\n",
      "21       Python for Data Science and Machine Learning\n",
      "24      Physics Made Simple: Fundamentals to Advanced\n",
      "25                          Data structures through C\n",
      "28                       Introduction to Astrophysics\n",
      "30              Climate Change: Science and Solutions\n",
      "31             Biotechnology: Applications and Impact\n",
      "33                 Marine Biology: Life Under the Sea\n",
      "37                  Mindfulness and Stress Management\n",
      "38          Public Speaking and Communication Mastery\n",
      "41             Time Management for Busy Professionals\n",
      "43                         Data structures through C#\n",
      "44                Mental Health Awareness and Support\n",
      "47  Anatomy and Physiology: Understanding the Huma...\n",
      "51                Introduction to Medical Terminology\n",
      "55                       Data structures through Java\n",
      "61           Developing Curriculum for K-12 Education\n",
      "62                   Childhood Education Fundamentals\n"
     ]
    }
   ],
   "source": [
    "# 82. Find courses that have no students enrolled in them.\n",
    "enrolled_courses = enrollments_df['course_id'].unique()\n",
    "no_enrollment_courses = courses_df[~courses_df['course_id'].isin(enrolled_courses)]\n",
    "print(f\"82. Courses that have no students enrolled:\\n{no_enrollment_courses[['title']]}\")"
   ]
  },
  {
   "cell_type": "code",
   "execution_count": 233,
   "id": "ccf7e91c-ff0d-45c3-8530-262caeee059e",
   "metadata": {},
   "outputs": [
    {
     "name": "stdout",
     "output_type": "stream",
     "text": [
      "83. Number of students from each country based on their enrollments:\n",
      "country\n",
      "China      54\n",
      "Germany     6\n",
      "India      95\n",
      "UK         35\n",
      "US         71\n",
      "Name: student_id, dtype: int64\n"
     ]
    }
   ],
   "source": [
    "# 83. Find the number of students from each country based on their enrollments.\n",
    "students_per_country = enrollments_df.merge(users_df[['user_id', 'country']\n",
    "                                            ], left_on='student_id', right_on='user_id').groupby('country')['student_id'].nunique()\n",
    "print(f\"83. Number of students from each country based on their enrollments:\\n{students_per_country}\")"
   ]
  },
  {
   "cell_type": "code",
   "execution_count": 235,
   "id": "315b1b98-8693-47f0-b7ca-6dc5d5de092a",
   "metadata": {},
   "outputs": [
    {
     "name": "stdout",
     "output_type": "stream",
     "text": [
      "84. Course popularity details by country:\n",
      "    country  course_id  enrollment_count\n",
      "9     China      49963                 5\n",
      "25  Germany      27385                 1\n",
      "59    India      93619                 9\n",
      "74       UK      64796                 5\n",
      "94       US      64796                 8\n"
     ]
    }
   ],
   "source": [
    "# 84. Get the course popularity details by country.\n",
    "course_popularity_by_country = enrollments_df.merge(users_df[['user_id', 'country']], left_on='student_id', right_on='user_id'\n",
    "                                                   ).groupby(['country', 'course_id']).size().reset_index(name='enrollment_count')\n",
    "most_popular_course_by_country = course_popularity_by_country.loc[course_popularity_by_country.groupby('country')['enrollment_count'].idxmax()]\n",
    "print(f\"84. Course popularity details by country:\\n{most_popular_course_by_country}\")"
   ]
  },
  {
   "cell_type": "code",
   "execution_count": 237,
   "id": "0309632d-5a6f-4d26-8bd5-932cc783caf2",
   "metadata": {},
   "outputs": [
    {
     "name": "stdout",
     "output_type": "stream",
     "text": [
      "85. Top 5 bestselling paid courses:\n",
      "course_id\n",
      "64561    345.80\n",
      "78724    335.80\n",
      "56446    295.25\n",
      "21248    278.00\n",
      "62660    249.00\n",
      "Name: amount_paid, dtype: float64\n"
     ]
    }
   ],
   "source": [
    "# 85. Find the top 5 bestselling paid courses.\n",
    "bestselling_paid_courses = enrollments_df.merge(payments_df[payments_df['amount_paid'] > 0],\n",
    "                                                on='enrollment_id').groupby('course_id')['amount_paid'].sum().nlargest(5)\n",
    "print(f\"85. Top 5 bestselling paid courses:\\n{bestselling_paid_courses}\")"
   ]
  },
  {
   "cell_type": "code",
   "execution_count": 239,
   "id": "f882f457-4103-44db-87ec-e85cb0fa2f66",
   "metadata": {},
   "outputs": [
    {
     "name": "stdout",
     "output_type": "stream",
     "text": [
      "86. Bestselling course in each category:\n",
      "                      category  course_id  amount_paid\n",
      "15             Arts and Design      64561       345.80\n",
      "18                   Education      78724       335.80\n",
      "25                      Health      96323       173.70\n",
      "26        Personal Development      99133        99.00\n",
      "14     Science and Mathematics      62660       249.00\n",
      "10  Technology and Programming      56446       295.25\n"
     ]
    }
   ],
   "source": [
    "# 86. Find the bestselling course in each category.\n",
    "bestselling_course_per_category = (enrollments_df.merge(payments_df, on='enrollment_id').merge(courses_df, on='course_id')\n",
    "                                   .groupby(['course_id', 'category'])['amount_paid'].sum().reset_index())\n",
    "bestselling_course_per_category = (bestselling_course_per_category.loc[bestselling_course_per_category.groupby('category')['amount_paid'].idxmax()])\n",
    "print(f\"86. Bestselling course in each category:\\n{bestselling_course_per_category[['category', 'course_id', 'amount_paid']]}\")"
   ]
  },
  {
   "cell_type": "code",
   "execution_count": 241,
   "id": "535c4b1d-a621-4a63-818f-17185d4f63cd",
   "metadata": {},
   "outputs": [
    {
     "name": "stdout",
     "output_type": "stream",
     "text": [
      "87. Free enrollments: 0, Paid enrollments: 43\n"
     ]
    }
   ],
   "source": [
    "# 87. Calculate the number of free enrollments and paid enrollments.\n",
    "free_enrollments = enrollments_df[enrollments_df['enrollment_id'].isin(payments_df[payments_df['amount_paid'] == 0]['enrollment_id'])].shape[0]\n",
    "paid_enrollments = enrollments_df[enrollments_df['enrollment_id'].isin(payments_df[payments_df['amount_paid'] > 0]['enrollment_id'])].shape[0]\n",
    "print(f\"87. Free enrollments: {free_enrollments}, Paid enrollments: {paid_enrollments}\")"
   ]
  },
  {
   "cell_type": "code",
   "execution_count": 243,
   "id": "f7273bd9-d065-4f45-9e0a-0c79618b4f6a",
   "metadata": {},
   "outputs": [
    {
     "name": "stdout",
     "output_type": "stream",
     "text": [
      "88. Correlation between number of videos and completion rate: -0.07\n"
     ]
    }
   ],
   "source": [
    "# 88. Find correlation between the number of videos and the completion_rate.\n",
    "correlation_videos_completion = courses_df['number_of_videos'].corr(courses_df['completion_rate'])\n",
    "print(f\"88. Correlation between number of videos and completion rate: {correlation_videos_completion:.2f}\")"
   ]
  },
  {
   "cell_type": "code",
   "execution_count": 245,
   "id": "d8ab9117-35dc-49d2-8bd0-7955781d1613",
   "metadata": {},
   "outputs": [
    {
     "name": "stdout",
     "output_type": "stream",
     "text": [
      "89. Correlation between number of quizzes and average rating: -0.21\n"
     ]
    }
   ],
   "source": [
    "# 89. Find the correlation between number of quizzes and average rating for each course.\n",
    "correlation_quizzes_rating = courses_df['number_of_quizzes'].corr(courses_df['average_rating'])\n",
    "print(f\"89. Correlation between number of quizzes and average rating: {correlation_quizzes_rating:.2f}\")"
   ]
  },
  {
   "cell_type": "code",
   "execution_count": 247,
   "id": "00826837-694c-4cd0-b79b-f8b0050987b7",
   "metadata": {},
   "outputs": [
    {
     "name": "stdout",
     "output_type": "stream",
     "text": [
      "90. Failed PayPal transactions: 1\n"
     ]
    }
   ],
   "source": [
    "# 90. How many payment transactions failed using PayPal?\n",
    "failed_paypal_transactions = payments_df[(payments_df['payment_method'] == 'PayPal') & (payments_df['payment_status'] == 'failed')].shape[0]\n",
    "print(f\"90. Failed PayPal transactions: {failed_paypal_transactions}\")"
   ]
  },
  {
   "cell_type": "code",
   "execution_count": 249,
   "id": "ca962e06-a75c-44a7-9b6a-b6031404271c",
   "metadata": {},
   "outputs": [
    {
     "name": "stdout",
     "output_type": "stream",
     "text": [
      "91. Summary of payment methods:\n",
      "payment_status  failed  pending  success\n",
      "payment_method                          \n",
      "PayPal               1        0       14\n",
      "UPI                  0        1       18\n",
      "card                 0        0       11\n"
     ]
    }
   ],
   "source": [
    "# 91. Get a summary of payment methods, including how many successful, failed or pending payments are there for each method.\n",
    "payment_summary = payments_df.groupby(['payment_method', 'payment_status']).size().unstack(fill_value=0)\n",
    "print(f\"91. Summary of payment methods:\\n{payment_summary}\")"
   ]
  },
  {
   "cell_type": "code",
   "execution_count": 251,
   "id": "0446e63c-d87c-4a0c-8153-5b37b3d5c647",
   "metadata": {},
   "outputs": [
    {
     "name": "stdout",
     "output_type": "stream",
     "text": [
      "92. Courses that were never refunded:\n",
      "                                                title\n",
      "0                         Data structures through C++\n",
      "1                  Advanced Mathematics for Engineers\n",
      "2             Advanced Data structures through Python\n",
      "3                     First Aid and CPR Certification\n",
      "4              Managing Diabetes and Chronic Diseases\n",
      "..                                                ...\n",
      "58               AI and Deep Learning with TensorFlow\n",
      "59                          Gamification in Education\n",
      "60  Educational Psychology: Enhancing Learning Out...\n",
      "61           Developing Curriculum for K-12 Education\n",
      "62                   Childhood Education Fundamentals\n",
      "\n",
      "[63 rows x 1 columns]\n"
     ]
    }
   ],
   "source": [
    "# 92. Display the courses that were never refunded.\n",
    "refunded_courses = refunds_df['enrollment_id'].unique()\n",
    "no_refund_courses = courses_df[~courses_df['course_id'].isin(refunded_courses)]\n",
    "print(f\"92. Courses that were never refunded:\\n{no_refund_courses[['title']]}\")"
   ]
  },
  {
   "cell_type": "code",
   "execution_count": 253,
   "id": "4c76bbf3-e079-4a83-8bbc-33596dcc9fa7",
   "metadata": {},
   "outputs": [
    {
     "data": {
      "image/png": "[encoded data removed]",
      "text/plain": [
       "<Figure size 1000x600 with 1 Axes>"
      ]
     },
     "metadata": {},
     "output_type": "display_data"
    }
   ],
   "source": [
    "# 93. Use box plot to plot distribution of completion rates by difficulty level.\n",
    "plt.figure(figsize=(10, 6))\n",
    "sns.boxplot(data=courses_df, x='difficulty_level', y='completion_rate')\n",
    "plt.title('Completion Rates by Difficulty Level')\n",
    "plt.xlabel('Difficulty Level')\n",
    "plt.ylabel('Completion Rate')\n",
    "plt.show()"
   ]
  },
  {
   "cell_type": "code",
   "execution_count": 255,
   "id": "d77817fa-2df5-4f8f-9739-c94d8d8533a9",
   "metadata": {},
   "outputs": [
    {
     "name": "stdout",
     "output_type": "stream",
     "text": [
      "94. Course category with the most enrollments: Education\n"
     ]
    }
   ],
   "source": [
    "# 94. Identify the course category with the most enrollments.\n",
    "most_enrolled_category = enrollments_df.merge(courses_df[['course_id', 'category']], \n",
    "                                              on='course_id').groupby('category')['student_id'].nunique().idxmax()\n",
    "print(f\"94. Course category with the most enrollments: {most_enrolled_category}\")"
   ]
  },
  {
   "cell_type": "code",
   "execution_count": 259,
   "id": "75d9fb05-8a9e-48dc-bd80-08ea35d2e48e",
   "metadata": {},
   "outputs": [
    {
     "name": "stdout",
     "output_type": "stream",
     "text": [
      "95. Number of inactive users: 2250\n"
     ]
    }
   ],
   "source": [
    "# 95. Find the number of inactive users - users who have not logged in during the last 30 days.\n",
    "users_df['last_login_date'] = pd.to_datetime(users_df['last_login_date'], format='%d-%m-%Y', errors='coerce')\n",
    "users_df_cleaned = users_df.dropna(subset=['last_login_date'])\n",
    "inactive_users = users_df_cleaned[users_df_cleaned['last_login_date'] < (datetime.now() - timedelta(days=30))]\n",
    "print(f\"95. Number of inactive users: {inactive_users.shape[0]}\")"
   ]
  },
  {
   "cell_type": "code",
   "execution_count": 261,
   "id": "f0c27af3-a7da-414e-ad03-10f45b2c407d",
   "metadata": {},
   "outputs": [
    {
     "name": "stdout",
     "output_type": "stream",
     "text": [
      "96. Average price of courses in each category:\n",
      "category\n",
      "Arts and Design                71.000000\n",
      "Business and Management        81.000000\n",
      "Education                      94.000000\n",
      "Health                         93.000000\n",
      "Personal Development           90.800000\n",
      "Science and Mathematics       124.900000\n",
      "Technology and Programming    116.727273\n",
      "Name: price, dtype: float64\n"
     ]
    }
   ],
   "source": [
    "# 96. What is the average price of courses in each category? (exclude the free courses)\n",
    "average_price_per_category = courses_df[courses_df['price'] > 0].groupby('category')['price'].mean()\n",
    "print(f\"96. Average price of courses in each category:\\n{average_price_per_category}\")"
   ]
  },
  {
   "cell_type": "code",
   "execution_count": 271,
   "id": "20c72ff4-fec6-4629-b151-1ffc6501a1a3",
   "metadata": {},
   "outputs": [
    {
     "name": "stdout",
     "output_type": "stream",
     "text": [
      "97. Courses available with subtitles: 55\n"
     ]
    }
   ],
   "source": [
    "# 97. How many courses are available with subtitles?\n",
    "courses_with_subtitles = courses_df[courses_df['subtitles'] == 'yes'].shape[0]\n",
    "print(f\"97. Courses available with subtitles: {courses_with_subtitles}\")"
   ]
  },
  {
   "cell_type": "code",
   "execution_count": 273,
   "id": "d536eb0a-d99a-4e2f-a89c-16f93caf8a6f",
   "metadata": {},
   "outputs": [
    {
     "name": "stdout",
     "output_type": "stream",
     "text": [
      "98. Percentage of courses offering certifications: 66.67%\n"
     ]
    }
   ],
   "source": [
    "# 98. What percentage of courses offer certifications?\n",
    "certification_percentage = (courses_df[courses_df['certification_available'] == 'yes'].shape[0] / courses_df.shape[0]) * 100\n",
    "print(f\"98. Percentage of courses offering certifications: {certification_percentage:.2f}%\")"
   ]
  },
  {
   "cell_type": "code",
   "execution_count": 275,
   "id": "50f4f6f2-e226-4339-bca5-4dcf13ac6bbe",
   "metadata": {},
   "outputs": [
    {
     "name": "stdout",
     "output_type": "stream",
     "text": [
      "99. Average time gap between registration and first enrollment: 937.40 days\n"
     ]
    }
   ],
   "source": [
    "# 99. What is the average time gap between a user's registration date and their first enrollment date?\n",
    "users_enrollment_dates = enrollments_df.merge(users_df[['user_id', 'registration_date']], left_on='student_id', right_on='user_id')\n",
    "users_enrollment_dates['time_gap'] = (pd.to_datetime(users_enrollment_dates['enrollment_date']\n",
    "                                                    ) - pd.to_datetime(users_enrollment_dates['registration_date'])).dt.days\n",
    "average_time_gap = users_enrollment_dates['time_gap'].mean()\n",
    "print(f\"99. Average time gap between registration and first enrollment: {average_time_gap:.2f} days\")"
   ]
  },
  {
   "cell_type": "code",
   "execution_count": 277,
   "id": "7cbcb7eb-f1a1-413f-8a78-a021d66b63ff",
   "metadata": {},
   "outputs": [
    {
     "name": "stdout",
     "output_type": "stream",
     "text": [
      "100. Users who signed up but have not enrolled:\n",
      "                               email                name\n",
      "0          garzaanthony@robinson.org        Allison Hill\n",
      "1                lindsay78@gmail.com        George Davis\n",
      "2           jacqueline19@jackson.biz           Mark Diaz\n",
      "3             julie69@cox-osborn.com        Thomas Ellis\n",
      "4               cartereric@gmail.com        Alexandra Le\n",
      "...                              ...                 ...\n",
      "2937           williamhill@gmail.com       Stacy Russell\n",
      "2938           rebeccahunt@yahoo.com     Tammy Marsh DDS\n",
      "2939          andrew73@rodriguez.org         Kevin Floyd\n",
      "2940   hjohnston@shields-sanchez.net      Nancy Galloway\n",
      "2941  gcurry@espinoza-rodriguez.info  Walter Cochran DDS\n",
      "\n",
      "[2681 rows x 2 columns]\n"
     ]
    }
   ],
   "source": [
    "# 100. Get the email addresses and names of users who have signed up but have not enrolled in any course.\n",
    "non_enrolled_users = users_df[~users_df['user_id'].isin(enrollments_df['student_id'])]\n",
    "print(f\"100. Users who signed up but have not enrolled:\\n{non_enrolled_users[['email', 'name']]}\")"
   ]
  },
  {
   "cell_type": "code",
   "execution_count": 279,
   "id": "82a75e62-a09d-46a5-aca7-7f0e17fa6400",
   "metadata": {},
   "outputs": [
    {
     "name": "stdout",
     "output_type": "stream",
     "text": [
      "101. Customers refunding without any reason:\n",
      "    enrollment_id  refund_amount\n",
      "2          625488             10\n",
      "7          990338              6\n",
      "8          203994              7\n",
      "10         127363              4\n"
     ]
    }
   ],
   "source": [
    "# 101. Find the customers who are refunding without any reason.\n",
    "refunds_without_reason = refunds_df[refunds_df['refund_reason'].isnull()]\n",
    "print(f\"101. Customers refunding without any reason:\\n{refunds_without_reason[['enrollment_id', 'refund_amount']]}\")"
   ]
  },
  {
   "cell_type": "code",
   "execution_count": 281,
   "id": "a4d77f49-4ef1-48d3-b639-4b3567c76ac4",
   "metadata": {},
   "outputs": [
    {
     "name": "stdout",
     "output_type": "stream",
     "text": [
      "102. Monthly new user growth:\n",
      "registration_month\n",
      "2020-01    59\n",
      "2020-02    41\n",
      "2020-03    46\n",
      "2020-04    46\n",
      "2020-05    50\n",
      "           ..\n",
      "2024-09    52\n",
      "2024-10    50\n",
      "2024-11    49\n",
      "2024-12    51\n",
      "2025-01    25\n",
      "Freq: M, Length: 61, dtype: int64\n"
     ]
    }
   ],
   "source": [
    "# 102. Analyze monthly new user growth to understand monthly trends.\n",
    "users_df['registration_date'] = pd.to_datetime(users_df['registration_date'])\n",
    "users_df['registration_month'] = users_df['registration_date'].dt.to_period('M')\n",
    "monthly_new_users = users_df.groupby('registration_month').size()\n",
    "print(f\"102. Monthly new user growth:\\n{monthly_new_users}\")"
   ]
  },
  {
   "cell_type": "code",
   "execution_count": 285,
   "id": "b203d969-3de4-488b-9e5f-f5b1b27a461e",
   "metadata": {},
   "outputs": [
    {
     "data": {
      "image/png": "[encoded data removed]",
      "text/plain": [
       "<Figure size 1000x600 with 1 Axes>"
      ]
     },
     "metadata": {},
     "output_type": "display_data"
    }
   ],
   "source": [
    "# 103. Calculate and plot the cumulative user growth.\n",
    "cumulative_user_growth = monthly_new_users.cumsum()\n",
    "plt.figure(figsize=(10, 6))\n",
    "cumulative_user_growth.plot()\n",
    "plt.title('Cumulative User Growth')\n",
    "plt.xlabel('Month')\n",
    "plt.ylabel('Cumulative Users')\n",
    "plt.show()"
   ]
  },
  {
   "cell_type": "code",
   "execution_count": 287,
   "id": "ee42c3a0-a0c4-4ea9-84d9-faf41579537e",
   "metadata": {},
   "outputs": [
    {
     "name": "stdout",
     "output_type": "stream",
     "text": [
      "104. Monthly revenue report:\n",
      "payment_month\n",
      "2025-01    4009.0\n",
      "Freq: M, Name: amount_paid, dtype: float64\n"
     ]
    }
   ],
   "source": [
    "# 104. Generate the monthly revenue report.\n",
    "payments_df['transaction_date'] = pd.to_datetime(payments_df['transaction_date'])\n",
    "payments_df['payment_month'] = payments_df['transaction_date'].dt.to_period('M')\n",
    "monthly_revenue = payments_df.groupby('payment_month')['amount_paid'].sum()\n",
    "print(f\"104. Monthly revenue report:\\n{monthly_revenue}\")"
   ]
  },
  {
   "cell_type": "code",
   "execution_count": 289,
   "id": "26b56cef-3664-41e2-9e36-5658e4877cd0",
   "metadata": {},
   "outputs": [
    {
     "name": "stdout",
     "output_type": "stream",
     "text": [
      "105. Annual revenue report:\n",
      "payment_year\n",
      "2025    4009.0\n",
      "Freq: Y-DEC, Name: amount_paid, dtype: float64\n"
     ]
    }
   ],
   "source": [
    "# 105. Generate the annual revenue report.\n",
    "payments_df['payment_year'] = payments_df['transaction_date'].dt.to_period('Y')\n",
    "annual_revenue = payments_df.groupby('payment_year')['amount_paid'].sum()\n",
    "print(f\"105. Annual revenue report:\\n{annual_revenue}\")"
   ]
  },
  {
   "cell_type": "code",
   "execution_count": 291,
   "id": "252ec574-a354-4dfd-8c67-de204768ca21",
   "metadata": {},
   "outputs": [
    {
     "name": "stdout",
     "output_type": "stream",
     "text": [
      "106. Weekday purchases: 30, Weekend purchases: 15\n"
     ]
    }
   ],
   "source": [
    "# 106. Analyze whether there are more purchases on weekdays or weekends.\n",
    "payments_df['day_of_week'] = payments_df['transaction_date'].dt.dayofweek\n",
    "weekday_purchases = payments_df[payments_df['day_of_week'] < 5].shape[0]\n",
    "weekend_purchases = payments_df[payments_df['day_of_week'] >= 5].shape[0]\n",
    "print(f\"106. Weekday purchases: {weekday_purchases}, Weekend purchases: {weekend_purchases}\")"
   ]
  },
  {
   "cell_type": "code",
   "execution_count": 293,
   "id": "4f350e97-201f-411b-8f86-cba13f37a8f6",
   "metadata": {},
   "outputs": [
    {
     "data": {
      "image/png": "[encoded data removed]",
      "text/plain": [
       "<Figure size 1000x600 with 1 Axes>"
      ]
     },
     "metadata": {},
     "output_type": "display_data"
    }
   ],
   "source": [
    "# 107. Which coupon code is used most frequently? Visualize the distribution of coupon code usage.\n",
    "most_used_coupon = payments_df['coupon_code'].mode()[0]\n",
    "coupon_usage = payments_df['coupon_code'].value_counts()\n",
    "plt.figure(figsize=(10, 6))\n",
    "sns.barplot(x=coupon_usage.index, y=coupon_usage.values)\n",
    "plt.title('Coupon Code Usage Distribution')\n",
    "plt.xlabel('Coupon Code')\n",
    "plt.ylabel('Usage Count')\n",
    "plt.xticks(rotation=45)\n",
    "plt.show()"
   ]
  },
  {
   "cell_type": "code",
   "execution_count": 295,
   "id": "14eeee57-57b9-4562-96d7-2c11f3454ad2",
   "metadata": {},
   "outputs": [
    {
     "name": "stdout",
     "output_type": "stream",
     "text": [
      "108. Completion rates by country:\n",
      "country\n",
      "China      41.676271\n",
      "Germany    47.893333\n",
      "India      45.494800\n",
      "UK         39.162162\n",
      "US         43.602800\n",
      "Name: completion_rate, dtype: float64\n"
     ]
    }
   ],
   "source": [
    "# 108. Analyze completion rates by country.\n",
    "completion_rate_by_country = enrollments_df.merge(users_df[['user_id', 'country']], left_on='student_id', right_on='user_id').merge(courses_df[\n",
    "                                                    ['course_id', 'completion_rate']], on='course_id').groupby('country')['completion_rate'].mean()\n",
    "print(f\"108. Completion rates by country:\\n{completion_rate_by_country}\")"
   ]
  },
  {
   "cell_type": "code",
   "execution_count": null,
   "id": "f992f403-012a-4dc2-8806-4c1d6660c23f",
   "metadata": {},
   "outputs": [],
   "source": []
  }
 ],
 "metadata": {
  "kernelspec": {
   "display_name": "Python [conda env:base] *",
   "language": "python",
   "name": "conda-base-py"
  },
  "language_info": {
   "codemirror_mode": {
    "name": "ipython",
    "version": 3
   },
   "file_extension": ".py",
   "mimetype": "text/x-python",
   "name": "python",
   "nbconvert_exporter": "python",
   "pygments_lexer": "ipython3",
   "version": "3.12.7"
  }
 },
 "nbformat": 4,
 "nbformat_minor": 5
}
